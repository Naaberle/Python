{
 "cells": [
  {
   "cell_type": "code",
   "execution_count": 41,
   "id": "a7742118",
   "metadata": {
    "ExecuteTime": {
     "end_time": "2022-05-12T02:52:55.858722Z",
     "start_time": "2022-05-12T02:52:55.846685Z"
    }
   },
   "outputs": [],
   "source": [
    "def is_prime(num1):\n",
    "    factors = 0\n",
    "    if num1 == 1:        #1 is false\n",
    "        return False\n",
    "    elif num1 < 4:       #returns true on 2 & 3 \n",
    "        return True\n",
    "    elif num1%2 == 0:    #removes all evens (except 2 has already been added)\n",
    "        return False\n",
    "    elif num1 < 9:       #with 1,2,3,4,6,8 accounted for above, this catches 5 & 7 \n",
    "        return True\n",
    "    elif num1%3 == 0 or num1%5 == 0 or num1%7 == 0: #returns False for multiples of 3,5,7 which can't be prime if larger than 10\n",
    "        return False\n",
    "    elif factors == 0:\n",
    "        for x in range(1,num1+1):\n",
    "            if num1%x == 0:\n",
    "                factors += 1\n",
    "        if factors > 2:\n",
    "            return False\n",
    "        else:\n",
    "            return True"
   ]
  },
  {
   "cell_type": "code",
   "execution_count": 42,
   "id": "8a55f558",
   "metadata": {
    "ExecuteTime": {
     "end_time": "2022-05-12T02:52:56.092842Z",
     "start_time": "2022-05-12T02:52:56.085841Z"
    }
   },
   "outputs": [],
   "source": [
    "def sum_prime(upper_limit):\n",
    "    advance = True    #tracking prime_count.     \n",
    "    count = 2\n",
    "    check = 1          #tracking natural number count \n",
    "    \n",
    "    \n",
    "    \n",
    "    while advance == True:\n",
    "        if check > upper_limit:\n",
    "            return count\n",
    "        if is_prime(check) == True:\n",
    "            count = count + check\n",
    "            check += 2\n",
    "        elif is_prime(check) == False:\n",
    "            check += 2"
   ]
  },
  {
   "cell_type": "code",
   "execution_count": 49,
   "id": "13e2cad9",
   "metadata": {
    "ExecuteTime": {
     "end_time": "2022-05-12T13:27:35.877671Z",
     "start_time": "2022-05-12T13:27:34.485543Z"
    }
   },
   "outputs": [
    {
     "data": {
      "text/plain": [
       "5736396"
      ]
     },
     "execution_count": 49,
     "metadata": {},
     "output_type": "execute_result"
    }
   ],
   "source": [
    "sum_prime(10000)"
   ]
  },
  {
   "cell_type": "code",
   "execution_count": 24,
   "id": "30071c85",
   "metadata": {
    "ExecuteTime": {
     "end_time": "2022-05-11T05:51:51.631293Z",
     "start_time": "2022-05-11T05:51:51.605153Z"
    }
   },
   "outputs": [
    {
     "data": {
      "text/plain": [
       "76127"
      ]
     },
     "execution_count": 24,
     "metadata": {},
     "output_type": "execute_result"
    }
   ],
   "source": [
    "test = [2, 3, 5, 7, 11, 13, 17, 19, 23, 29, 31, 37, 41, 43, 47, 53, 59, 61, 67, 71, 73, 79, 83, 89, 97, 101, 103, 107, 109, 113, 127, 131, 137, 139, 149, 151, 157, 163, 167, 173, 179, 181, 191, 193, 197, 199, 211, 223, 227, 229, 233, 239, 241, 251, 257, 263, 269, 271, 277, 281, 283, 293, 307, 311, 313, 317, 331, 337, 347, 349, 353, 359, 367, 373, 379, 383, 389, 397, 401, 409, 419, 421, 431, 433, 439, 443, 449, 457, 461, 463, 467, 479, 487, 491, 499, 503, 509, 521, 523, 541, 547, 557, 563, 569, 571, 577, 587, 593, 599, 601, 607, 613, 617, 619, 631, 641, 643, 647, 653, 659, 661, 673, 677, 683, 691, 701, 709, 719, 727, 733, 739, 743, 751, 757, 761, 769, 773, 787, 797, 809, 811, 821, 823, 827, 829, 839, 853, 857, 859, 863, 877, 881, 883, 887, 907, 911, 919, 929, 937, 941, 947, 953, 967, 971, 977, 983, 991, 997]\n",
    "sum(test)"
   ]
  },
  {
   "cell_type": "code",
   "execution_count": 40,
   "id": "cc842c73",
   "metadata": {
    "ExecuteTime": {
     "end_time": "2022-05-12T02:22:28.090483Z",
     "start_time": "2022-05-12T02:22:28.080942Z"
    }
   },
   "outputs": [
    {
     "name": "stdout",
     "output_type": "stream",
     "text": [
      "1\n",
      "2\n",
      "3\n",
      "4\n",
      "5\n",
      "6\n",
      "7\n",
      "8\n",
      "9\n",
      "10\n"
     ]
    }
   ],
   "source": [
    "test2 = [1,2,3,4,5,6,7,8,9,10]\n",
    "\n",
    "for i in test2:\n",
    "    print(i)"
   ]
  },
  {
   "cell_type": "code",
   "execution_count": null,
   "id": "adcc731e",
   "metadata": {},
   "outputs": [],
   "source": []
  }
 ],
 "metadata": {
  "kernelspec": {
   "display_name": "Python 3 (ipykernel)",
   "language": "python",
   "name": "python3"
  },
  "language_info": {
   "codemirror_mode": {
    "name": "ipython",
    "version": 3
   },
   "file_extension": ".py",
   "mimetype": "text/x-python",
   "name": "python",
   "nbconvert_exporter": "python",
   "pygments_lexer": "ipython3",
   "version": "3.9.7"
  }
 },
 "nbformat": 4,
 "nbformat_minor": 5
}
