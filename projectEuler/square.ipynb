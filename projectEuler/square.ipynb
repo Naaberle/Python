{
 "cells": [
  {
   "cell_type": "code",
   "execution_count": null,
   "id": "2d910c6d",
   "metadata": {},
   "outputs": [],
   "source": [
    "def square(x):\n",
    "    print(f\"start process:{x}\")\n",
    "    square = x * x\n",
    "    print(f\"square {x}:{square}\")\n",
    "    time.sleep(1)\n",
    "    print(f\"end process:{x}\")"
   ]
  }
 ],
 "metadata": {
  "kernelspec": {
   "display_name": "Python 3 (ipykernel)",
   "language": "python",
   "name": "python3"
  },
  "language_info": {
   "codemirror_mode": {
    "name": "ipython",
    "version": 3
   },
   "file_extension": ".py",
   "mimetype": "text/x-python",
   "name": "python",
   "nbconvert_exporter": "python",
   "pygments_lexer": "ipython3",
   "version": "3.9.7"
  }
 },
 "nbformat": 4,
 "nbformat_minor": 5
}
