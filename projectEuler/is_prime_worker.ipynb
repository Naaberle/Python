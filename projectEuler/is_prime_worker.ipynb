{
 "cells": [
  {
   "cell_type": "code",
   "execution_count": 1,
   "id": "11e46b82",
   "metadata": {
    "ExecuteTime": {
     "end_time": "2022-05-12T01:31:21.301568Z",
     "start_time": "2022-05-12T01:31:21.274820Z"
    }
   },
   "outputs": [],
   "source": [
    "def is_prime(num1):\n",
    "    factors = 0\n",
    "    if num1 == 1:\n",
    "        return False\n",
    "    elif num1 < 4:\n",
    "        return True\n",
    "    elif num1%2 == 0:\n",
    "        return False\n",
    "    elif num1 < 9:\n",
    "        return True\n",
    "    elif num1%3 == 0 or num1%5 == 0 or num1%7 == 0:\n",
    "        return False\n",
    "    elif factors == 0:\n",
    "        for x in range(1,num1+1):\n",
    "            if num1%x == 0:\n",
    "                factors += 1\n",
    "        if factors > 2:\n",
    "            return False\n",
    "        else:\n",
    "            return True"
   ]
  },
  {
   "cell_type": "code",
   "execution_count": null,
   "id": "71dd6972",
   "metadata": {},
   "outputs": [],
   "source": []
  }
 ],
 "metadata": {
  "kernelspec": {
   "display_name": "Python 3 (ipykernel)",
   "language": "python",
   "name": "python3"
  },
  "language_info": {
   "codemirror_mode": {
    "name": "ipython",
    "version": 3
   },
   "file_extension": ".py",
   "mimetype": "text/x-python",
   "name": "python",
   "nbconvert_exporter": "python",
   "pygments_lexer": "ipython3",
   "version": "3.9.7"
  }
 },
 "nbformat": 4,
 "nbformat_minor": 5
}
