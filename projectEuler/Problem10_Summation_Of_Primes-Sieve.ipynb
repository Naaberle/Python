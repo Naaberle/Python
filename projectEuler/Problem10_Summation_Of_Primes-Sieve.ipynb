{
 "cells": [
  {
   "cell_type": "code",
   "execution_count": 29,
   "id": "eabf410a",
   "metadata": {
    "ExecuteTime": {
     "end_time": "2022-05-12T18:00:44.751465Z",
     "start_time": "2022-05-12T18:00:44.734460Z"
    }
   },
   "outputs": [],
   "source": [
    "limit = 10\n",
    "primes = [2]"
   ]
  },
  {
   "cell_type": "code",
   "execution_count": 24,
   "id": "9905aac6",
   "metadata": {
    "ExecuteTime": {
     "end_time": "2022-05-12T17:48:08.657471Z",
     "start_time": "2022-05-12T17:48:01.730557Z"
    }
   },
   "outputs": [
    {
     "name": "stdout",
     "output_type": "stream",
     "text": [
      "454396537\n"
     ]
    }
   ],
   "source": [
    "for x in range(2,limit+1):\n",
    "    for y in primes:\n",
    "        if x%y == 0:\n",
    "            break\n",
    "    else:\n",
    "        primes.append(x)\n",
    "        \n",
    "print(sum(primes))"
   ]
  },
  {
   "cell_type": "code",
   "execution_count": 35,
   "id": "cdb52cd3",
   "metadata": {
    "ExecuteTime": {
     "end_time": "2022-05-12T18:08:37.178784Z",
     "start_time": "2022-05-12T18:01:12.984235Z"
    }
   },
   "outputs": [
    {
     "name": "stdout",
     "output_type": "stream",
     "text": [
      "37550402023\n"
     ]
    }
   ],
   "source": [
    "limit = 1000000\n",
    "total = 2\n",
    "primes = [2]\n",
    "\n",
    "for x in range(2, limit+1):\n",
    "    for y in primes:\n",
    "        if x%y == 0:\n",
    "            break\n",
    "    else:\n",
    "        total += x\n",
    "        primes.append(x)\n",
    "\n",
    "print(total)"
   ]
  },
  {
   "cell_type": "code",
   "execution_count": null,
   "id": "1cb8bcc7",
   "metadata": {},
   "outputs": [],
   "source": []
  }
 ],
 "metadata": {
  "kernelspec": {
   "display_name": "Python 3 (ipykernel)",
   "language": "python",
   "name": "python3"
  },
  "language_info": {
   "codemirror_mode": {
    "name": "ipython",
    "version": 3
   },
   "file_extension": ".py",
   "mimetype": "text/x-python",
   "name": "python",
   "nbconvert_exporter": "python",
   "pygments_lexer": "ipython3",
   "version": "3.9.7"
  }
 },
 "nbformat": 4,
 "nbformat_minor": 5
}
