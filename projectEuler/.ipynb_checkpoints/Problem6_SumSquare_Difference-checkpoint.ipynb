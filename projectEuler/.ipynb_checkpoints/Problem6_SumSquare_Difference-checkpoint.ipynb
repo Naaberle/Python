{
 "cells": [
  {
   "cell_type": "markdown",
   "id": "ebb62f17",
   "metadata": {},
   "source": [
    "The sum of the squares of the first ten natural numbers is,\n",
    "\n",
    "1^2 + 2^2 + ... + 10^2 = 385\n",
    "\n",
    "The square of the sum of the first ten natural numbers is,\n",
    "\n",
    "(1+2+...+10)^2 = 55^2 = 3025\n",
    "\n",
    "Hence the difference between the sum of the squares of the first ten natural numbers and the square of the sum is\n",
    "\n",
    "3025 - 385 = 2640.\n",
    "\n",
    "Find the difference between the sum of the squares of the first one hundred natural numbers and the square of the sum."
   ]
  },
  {
   "cell_type": "code",
   "execution_count": 1,
   "id": "5978f835",
   "metadata": {
    "ExecuteTime": {
     "end_time": "2022-05-12T13:56:04.129873Z",
     "start_time": "2022-05-12T13:56:04.107337Z"
    }
   },
   "outputs": [],
   "source": [
    "def sum_square_diff(first_x):\n",
    "    x = 0\n",
    "    y = 0\n",
    "    \n",
    "    for i in range(1,first_x+1):\n",
    "        x += i**2\n",
    "    for n in range(1,first_x+2):\n",
    "        if n <= first_x:\n",
    "            y += n\n",
    "        else:\n",
    "            y = y**2\n",
    "    \n",
    "    print(x)\n",
    "    print(y)\n",
    "    return y-x"
   ]
  },
  {
   "cell_type": "code",
   "execution_count": 2,
   "id": "3edcdcf7",
   "metadata": {
    "ExecuteTime": {
     "end_time": "2022-05-12T13:56:04.646885Z",
     "start_time": "2022-05-12T13:56:04.619880Z"
    }
   },
   "outputs": [
    {
     "name": "stdout",
     "output_type": "stream",
     "text": [
      "338350\n",
      "25502500\n"
     ]
    },
    {
     "data": {
      "text/plain": [
       "25164150"
      ]
     },
     "execution_count": 2,
     "metadata": {},
     "output_type": "execute_result"
    }
   ],
   "source": [
    "sum_square_diff(100)"
   ]
  }
 ],
 "metadata": {
  "kernelspec": {
   "display_name": "Python 3 (ipykernel)",
   "language": "python",
   "name": "python3"
  },
  "language_info": {
   "codemirror_mode": {
    "name": "ipython",
    "version": 3
   },
   "file_extension": ".py",
   "mimetype": "text/x-python",
   "name": "python",
   "nbconvert_exporter": "python",
   "pygments_lexer": "ipython3",
   "version": "3.9.7"
  }
 },
 "nbformat": 4,
 "nbformat_minor": 5
}
