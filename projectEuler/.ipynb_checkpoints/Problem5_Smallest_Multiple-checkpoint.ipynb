{
 "cells": [
  {
   "cell_type": "markdown",
   "id": "236ce87e",
   "metadata": {},
   "source": [
    "2520 is the smallest number that can be divided by each of the numbers from 1 to 10 without any remainder.\n",
    "\n",
    "What is the smallest positive number that is evenly divisible by all of the numbers from 1 to 20?"
   ]
  },
  {
   "cell_type": "code",
   "execution_count": 11,
   "id": "30958892",
   "metadata": {
    "ExecuteTime": {
     "end_time": "2022-05-10T01:40:15.036484Z",
     "start_time": "2022-05-10T01:40:15.014505Z"
    }
   },
   "outputs": [],
   "source": [
    "# Answer has to end in 0. \n",
    "# So count up by 10's, checking against 6, 7, 8, 9\n",
    "# All multiples will be divisible by 1.\n",
    "# If it's a multiple of 10, it's divisible evenly by 5 and 2.\n",
    "# If it's divisible my 9, it's divisible by 3.\n",
    "# If it's divisible by 8, it's divisible by 4.\n",
    "# When applied to 20, the ones to check will be 11,12,13,14,15,16,17,18,19 and the count will go by 20's.\n",
    "# 18 means divisible by 9 & 3, 16 means divisible by 8 & 4, 14 means divisible by 7, 12 means divisible by 6.  \n",
    " \n",
    "def smallest_multiple(top_number):\n",
    "    \n",
    "    n = 2520\n",
    "    found = False\n",
    "    while found == False:\n",
    "        if n % 19 == 0:\n",
    "            if n % 18 == 0:\n",
    "                if n % 17 == 0:\n",
    "                    if n % 16 == 0:\n",
    "                        if n % 15 == 0:\n",
    "                            if n % 14 == 0:\n",
    "                                if n % 13 == 0:\n",
    "                                    if n % 12 == 0:\n",
    "                                        if n % 11 == 0:\n",
    "                                            found = True\n",
    "                                            return n\n",
    "                                        else:\n",
    "                                            n += 20\n",
    "                                    else:\n",
    "                                        n += 20\n",
    "                                else:\n",
    "                                    n += 20\n",
    "                            else:\n",
    "                                n += 20\n",
    "                        else:\n",
    "                            n += 20\n",
    "                    else:\n",
    "                        n += 20\n",
    "                else:\n",
    "                    n += 20\n",
    "            else:\n",
    "                n += 20\n",
    "        else:\n",
    "            n += 20\n",
    "        "
   ]
  },
  {
   "cell_type": "code",
   "execution_count": 12,
   "id": "d08a3c5b",
   "metadata": {
    "ExecuteTime": {
     "end_time": "2022-05-10T01:40:16.744784Z",
     "start_time": "2022-05-10T01:40:15.218526Z"
    }
   },
   "outputs": [
    {
     "data": {
      "text/plain": [
       "232792560"
      ]
     },
     "execution_count": 12,
     "metadata": {},
     "output_type": "execute_result"
    }
   ],
   "source": [
    "smallest_multiple(20)"
   ]
  },
  {
   "cell_type": "code",
   "execution_count": 10,
   "id": "cdde69d3",
   "metadata": {
    "ExecuteTime": {
     "end_time": "2022-05-10T01:39:10.472207Z",
     "start_time": "2022-05-10T01:39:10.279155Z"
    }
   },
   "outputs": [
    {
     "name": "stdout",
     "output_type": "stream",
     "text": [
      "232792560\n"
     ]
    }
   ],
   "source": [
    "k = 2520\n",
    "while not all(k % d == 0 for d in [i for i in range(11, 21)][::-1]) : k+= 2520\n",
    "print(k)"
   ]
  },
  {
   "cell_type": "code",
   "execution_count": null,
   "id": "0ae4a598",
   "metadata": {},
   "outputs": [],
   "source": []
  }
 ],
 "metadata": {
  "kernelspec": {
   "display_name": "Python 3 (ipykernel)",
   "language": "python",
   "name": "python3"
  },
  "language_info": {
   "codemirror_mode": {
    "name": "ipython",
    "version": 3
   },
   "file_extension": ".py",
   "mimetype": "text/x-python",
   "name": "python",
   "nbconvert_exporter": "python",
   "pygments_lexer": "ipython3",
   "version": "3.9.7"
  }
 },
 "nbformat": 4,
 "nbformat_minor": 5
}
