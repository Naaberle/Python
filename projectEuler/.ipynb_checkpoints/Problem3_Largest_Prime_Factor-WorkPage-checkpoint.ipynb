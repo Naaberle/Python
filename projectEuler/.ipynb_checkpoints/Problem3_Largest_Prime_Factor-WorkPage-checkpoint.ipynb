{
 "cells": [
  {
   "cell_type": "markdown",
   "id": "a587d565",
   "metadata": {},
   "source": [
    "The prime factors of 13195 are 5, 7, 13 and 29.\n",
    "\n",
    "What is the largest prime factor of the number 600851475143 ?"
   ]
  },
  {
   "cell_type": "code",
   "execution_count": 13,
   "id": "ad9abd22",
   "metadata": {
    "ExecuteTime": {
     "end_time": "2022-05-10T00:13:13.990587Z",
     "start_time": "2022-05-10T00:13:12.682119Z"
    }
   },
   "outputs": [
    {
     "name": "stdout",
     "output_type": "stream",
     "text": [
      "7\n",
      "49\n",
      "193619\n"
     ]
    }
   ],
   "source": [
    "test = 9487331\n",
    "\n",
    "for x in range(int(test/2)+1,2,-1):              #starts at the halfway point and searches for factors between half and 3.\n",
    "    if x%2 == 0 or x%5 ==0:                       #removes evens & multiples of 5\n",
    "        continue\n",
    "    else:\n",
    "        if test%x == 0 and test/x != 1:  #Find Factors\n",
    "            pair = int(test/x)\n",
    "            #print(pair)\n",
    "            factors = 0            \n",
    "            for y in range(x,2,-1):      #Figure out if Factor is Prime\n",
    "                if x%y == 0:\n",
    "                    factors += 1    \n",
    "            if factors <= 2:\n",
    "                print(x)\n",
    "                break\n",
    "            for z in range(pair,2,-1):      #Figure out if pair is Prime \n",
    "                if x%y == 0:\n",
    "                    factors += 1    \n",
    "            if factors <= 2:\n",
    "                print(x)\n",
    "                break"
   ]
  },
  {
   "cell_type": "code",
   "execution_count": 34,
   "id": "e16bf3a2",
   "metadata": {
    "ExecuteTime": {
     "end_time": "2022-05-10T00:31:15.779436Z",
     "start_time": "2022-05-10T00:31:15.768433Z"
    }
   },
   "outputs": [
    {
     "name": "stdout",
     "output_type": "stream",
     "text": [
      "29\n"
     ]
    }
   ],
   "source": [
    "import math\n",
    "test = 13195\n",
    "\n",
    "for x in range(int(math.sqrt(test)),2,-1):              #starts at the sqrt and searches down to 3.\n",
    "    if x%2 == 0 or x%5 ==0:                       #removes evens & multiples of 5\n",
    "        continue\n",
    "    else:\n",
    "        if test%x == 0 and test/x != 1:  #Find Factors of x\n",
    "            pair = int(test/x)\n",
    "            #print(pair)\n",
    "            factors = 0\n",
    "            for y in range(x,2,-1):      #Figure out if Factor is Prime \n",
    "                if x%y == 0:\n",
    "                    factors += 1    \n",
    "            if factors <= 2:\n",
    "                print(x)\n",
    "                break\n",
    "            for z in range(pair,2,-1):      #Figure out if pair is Prime \n",
    "                if x%y == 0:\n",
    "                    factors += 1    \n",
    "            if factors <= 2:\n",
    "                print(x)\n",
    "                break"
   ]
  },
  {
   "cell_type": "code",
   "execution_count": 1,
   "id": "ae63aa53",
   "metadata": {
    "ExecuteTime": {
     "end_time": "2022-05-12T13:53:24.829920Z",
     "start_time": "2022-05-12T13:53:24.543334Z"
    }
   },
   "outputs": [
    {
     "name": "stdout",
     "output_type": "stream",
     "text": [
      "6857\n"
     ]
    }
   ],
   "source": [
    "import math\n",
    "test = 600851475143\n",
    "\n",
    "for x in range(int(math.sqrt(test)),2,-1):              #starts at the sqrt and searches down to 3.\n",
    "    if x%2 == 0 or x%5 ==0:                             #removes evens & multiples of 5\n",
    "        continue\n",
    "    else:\n",
    "        if test%x == 0 and test/x != 1:                 #Find Factors of x starting at sqrt(test) and going down\n",
    "            factors = 0\n",
    "            for y in range(x,2,-1):                     #Figure out if Factor is Prime by calculating how many factors it has\n",
    "                if x%y == 0:\n",
    "                    factors += 1    \n",
    "            if factors <= 2:\n",
    "                print(x)\n",
    "                break"
   ]
  },
  {
   "cell_type": "code",
   "execution_count": null,
   "id": "2f22566c",
   "metadata": {},
   "outputs": [],
   "source": [
    "600851475143477351\n",
    "test = 13195\n",
    "hold_list = []\n",
    "prime_list = []\n",
    "\n",
    "for x in range(test,1,-1):\n",
    "    if test%2 == 0:\n",
    "        pass\n",
    "    else test%x == 0:\n",
    "        hold_list.append(x)\n",
    "        \n",
    "for y in hold_list:\n",
    "    factors = 0\n",
    "    for z in range(1,y):\n",
    "        if y%z == 0:\n",
    "            factors = factors + 1\n",
    "            \n",
    "    if factors <= 2:\n",
    "        prime_list.append(y)\n",
    "        \n",
    "print(hold_list)\n",
    "print(max(prime_list))\n",
    "\n",
    "\n",
    "\n",
    "#for y in hold_list:\n",
    "#    factors = 0\n",
    "#    for z in range(1,y):\n",
    "#        if y%z == 0:\n",
    "#            factors = factors + 1\n",
    "#            \n",
    "#    if factors <= 2:\n",
    "#        prime_list.append(y)\n",
    "#        \n",
    "#print(hold_list)\n",
    "#print(max(prime_list))\n"
   ]
  }
 ],
 "metadata": {
  "kernelspec": {
   "display_name": "Python 3 (ipykernel)",
   "language": "python",
   "name": "python3"
  },
  "language_info": {
   "codemirror_mode": {
    "name": "ipython",
    "version": 3
   },
   "file_extension": ".py",
   "mimetype": "text/x-python",
   "name": "python",
   "nbconvert_exporter": "python",
   "pygments_lexer": "ipython3",
   "version": "3.9.7"
  }
 },
 "nbformat": 4,
 "nbformat_minor": 5
}
