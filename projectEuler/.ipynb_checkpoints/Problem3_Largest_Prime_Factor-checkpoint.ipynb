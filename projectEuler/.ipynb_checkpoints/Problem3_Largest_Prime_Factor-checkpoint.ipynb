{
 "cells": [
  {
   "cell_type": "markdown",
   "id": "a587d565",
   "metadata": {},
   "source": [
    "The prime factors of 13195 are 5, 7, 13 and 29.\n",
    "\n",
    "What is the largest prime factor of the number 600851475143 ?"
   ]
  },
  {
   "cell_type": "code",
   "execution_count": 1,
   "id": "ad9abd22",
   "metadata": {
    "ExecuteTime": {
     "end_time": "2022-05-12T13:54:25.649646Z",
     "start_time": "2022-05-12T13:54:25.341572Z"
    }
   },
   "outputs": [
    {
     "name": "stdout",
     "output_type": "stream",
     "text": [
      "6857\n"
     ]
    }
   ],
   "source": [
    "import math\n",
    "test = 600851475143\n",
    "\n",
    "for x in range(int(math.sqrt(test)),2,-1):              #starts at the sqrt and searches down to 3.\n",
    "    if x%2 == 0 or x%5 ==0:                             #removes evens & multiples of 5\n",
    "        continue\n",
    "    else:\n",
    "        if test%x == 0 and test/x != 1:                 #Find Factors of x starting at sqrt(test) and going down\n",
    "            factors = 0\n",
    "            for y in range(x,2,-1):                     #Figure out if Factor is Prime by calculating how many factors it has\n",
    "                if x%y == 0:\n",
    "                    factors += 1    \n",
    "            if factors <= 2:\n",
    "                print(x)\n",
    "                break"
   ]
  }
 ],
 "metadata": {
  "kernelspec": {
   "display_name": "Python 3 (ipykernel)",
   "language": "python",
   "name": "python3"
  },
  "language_info": {
   "codemirror_mode": {
    "name": "ipython",
    "version": 3
   },
   "file_extension": ".py",
   "mimetype": "text/x-python",
   "name": "python",
   "nbconvert_exporter": "python",
   "pygments_lexer": "ipython3",
   "version": "3.9.7"
  }
 },
 "nbformat": 4,
 "nbformat_minor": 5
}
