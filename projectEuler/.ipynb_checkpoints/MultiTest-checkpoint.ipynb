{
 "cells": [
  {
   "cell_type": "code",
   "execution_count": 4,
   "id": "8439c696",
   "metadata": {
    "ExecuteTime": {
     "end_time": "2022-05-12T01:29:12.653984Z",
     "start_time": "2022-05-12T01:29:12.472942Z"
    }
   },
   "outputs": [
    {
     "name": "stdout",
     "output_type": "stream",
     "text": [
      "[0, 1, 4]\n"
     ]
    }
   ],
   "source": [
    "from multiprocessing import Pool\n",
    "import squares\n",
    "\n",
    "\n",
    "if __name__ == '__main__':\n",
    "    num_processors = 4\n",
    "    p=Pool(processes = num_processors)\n",
    "    output = p.map(squares.square,[i for i in range(0,3)])\n",
    "    print(output)"
   ]
  },
  {
   "cell_type": "code",
   "execution_count": 6,
   "id": "39ac4723",
   "metadata": {
    "ExecuteTime": {
     "end_time": "2022-05-12T03:55:17.603427Z",
     "start_time": "2022-05-12T03:54:46.394948Z"
    }
   },
   "outputs": [
    {
     "name": "stdout",
     "output_type": "stream",
     "text": [
      "454396537\n"
     ]
    }
   ],
   "source": [
    "from multiprocessing import Pool\n",
    "import is_prime_worker\n",
    "\n",
    "limit = 100000\n",
    "\n",
    "if __name__ == '__main__':\n",
    "    \n",
    "    num_processors = 4\n",
    "    p=Pool(processes = num_processors)\n",
    "    output = p.map(is_prime_worker.is_prime,range(1,limit+1))\n",
    "        \n",
    "print(sum(output))  "
   ]
  },
  {
   "cell_type": "code",
   "execution_count": 20,
   "id": "2bcee00b",
   "metadata": {
    "ExecuteTime": {
     "end_time": "2022-05-12T01:51:29.578396Z",
     "start_time": "2022-05-12T01:51:29.359347Z"
    }
   },
   "outputs": [
    {
     "name": "stdout",
     "output_type": "stream",
     "text": [
      "<multiprocessing.pool.IMapUnorderedIterator object at 0x00000262012ADE20>\n",
      "<multiprocessing.pool.IMapUnorderedIterator object at 0x00000262012ADE20>\n",
      "<multiprocessing.pool.IMapUnorderedIterator object at 0x00000262012ADE20>\n",
      "<multiprocessing.pool.IMapUnorderedIterator object at 0x00000262012ADE20>\n",
      "<multiprocessing.pool.IMapUnorderedIterator object at 0x00000262012ADE20>\n"
     ]
    }
   ],
   "source": [
    "from multiprocessing import Pool\n",
    "import is_prime_worker\n",
    "\n",
    "limit = 100000\n",
    "\n",
    "if __name__ == '__main__':\n",
    "    pool = Pool()\n",
    "    output = pool.imap_unordered(is_prime_worker.is_prime,range(0,5))\n",
    "    for i in output:\n",
    "        if \n",
    "        print(output)"
   ]
  },
  {
   "cell_type": "code",
   "execution_count": 31,
   "id": "2ea23bf4",
   "metadata": {
    "ExecuteTime": {
     "end_time": "2022-05-12T02:02:58.661342Z",
     "start_time": "2022-05-12T02:02:58.642337Z"
    }
   },
   "outputs": [],
   "source": [
    "x = [2, 3, 5, 7, 11, 13, 17, 19, 23, 29, 31, 37, 41, 43, 47, 53, 59, 61, 67, 71, 73, 79, 83, 89, 97]"
   ]
  },
  {
   "cell_type": "code",
   "execution_count": 32,
   "id": "7b66aa93",
   "metadata": {
    "ExecuteTime": {
     "end_time": "2022-05-12T02:03:04.421091Z",
     "start_time": "2022-05-12T02:03:04.409091Z"
    }
   },
   "outputs": [
    {
     "name": "stdout",
     "output_type": "stream",
     "text": [
      "1060\n"
     ]
    }
   ],
   "source": [
    "print(sum(x))"
   ]
  },
  {
   "cell_type": "code",
   "execution_count": 58,
   "id": "c63ad189",
   "metadata": {
    "ExecuteTime": {
     "end_time": "2022-05-12T02:51:09.377477Z",
     "start_time": "2022-05-12T02:51:09.368955Z"
    }
   },
   "outputs": [
    {
     "name": "stdout",
     "output_type": "stream",
     "text": [
      "17\n"
     ]
    }
   ],
   "source": [
    "y = [False, True, True, False, True, False, True, False, False, False]\n",
    "count2 = 0\n",
    "ticker = 1\n",
    "\n",
    "for n in y:\n",
    "    if n == True:\n",
    "        count2 = count2 + (ticker)\n",
    "        ticker += 1\n",
    "    if n == False:\n",
    "        ticker += 1\n",
    "        \n",
    "print(count2)        \n",
    "        "
   ]
  },
  {
   "cell_type": "code",
   "execution_count": 57,
   "id": "b9286180",
   "metadata": {
    "ExecuteTime": {
     "end_time": "2022-05-12T02:45:59.545937Z",
     "start_time": "2022-05-12T02:45:59.530332Z"
    }
   },
   "outputs": [
    {
     "name": "stdout",
     "output_type": "stream",
     "text": [
      "1\n"
     ]
    }
   ],
   "source": [
    "xx = [True, False, True, False]\n",
    "\n",
    "cc = int(xx[cc])\n",
    "\n",
    "print(cc+1)"
   ]
  },
  {
   "cell_type": "code",
   "execution_count": null,
   "id": "680a40b0",
   "metadata": {},
   "outputs": [],
   "source": []
  },
  {
   "cell_type": "code",
   "execution_count": null,
   "id": "12da67d8",
   "metadata": {},
   "outputs": [],
   "source": []
  }
 ],
 "metadata": {
  "kernelspec": {
   "display_name": "Python 3 (ipykernel)",
   "language": "python",
   "name": "python3"
  },
  "language_info": {
   "codemirror_mode": {
    "name": "ipython",
    "version": 3
   },
   "file_extension": ".py",
   "mimetype": "text/x-python",
   "name": "python",
   "nbconvert_exporter": "python",
   "pygments_lexer": "ipython3",
   "version": "3.9.7"
  }
 },
 "nbformat": 4,
 "nbformat_minor": 5
}
