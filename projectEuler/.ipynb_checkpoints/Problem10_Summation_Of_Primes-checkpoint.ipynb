{
 "cells": [
  {
   "cell_type": "code",
   "execution_count": 1,
   "id": "a7742118",
   "metadata": {
    "ExecuteTime": {
     "end_time": "2022-05-12T00:40:20.822000Z",
     "start_time": "2022-05-12T00:40:20.802509Z"
    }
   },
   "outputs": [],
   "source": [
    "def is_prime(num1):\n",
    "    factors = 0\n",
    "    if num1 == 1:\n",
    "        return False\n",
    "    elif num1 < 4:\n",
    "        return True\n",
    "    elif num1%2 == 0:\n",
    "        return False\n",
    "    elif num1 < 9:\n",
    "        return True\n",
    "    elif num1%3 == 0 or num1%5 == 0 or num1%7 == 0:\n",
    "        return False\n",
    "    elif factors == 0:\n",
    "        for x in range(1,num1+1):\n",
    "            if num1%x == 0:\n",
    "                factors += 1\n",
    "        if factors > 2:\n",
    "            return False\n",
    "        else:\n",
    "            return True"
   ]
  },
  {
   "cell_type": "code",
   "execution_count": 5,
   "id": "8a55f558",
   "metadata": {
    "ExecuteTime": {
     "end_time": "2022-05-12T01:57:39.599941Z",
     "start_time": "2022-05-12T01:57:39.593939Z"
    }
   },
   "outputs": [],
   "source": [
    "def sum_prime(upper_limit):\n",
    "    advance = True    #tracking prime_count.\n",
    "    tally = 1\n",
    "    count = 2\n",
    "    check = 1           #tracking natural number count \n",
    "    \n",
    "    \n",
    "    \n",
    "    while advance == True:\n",
    "        if tally == upper_limit:\n",
    "            return count\n",
    "        if is_prime(check) == True:\n",
    "            count = count + check\n",
    "            tally += 1\n",
    "            check += 2\n",
    "        elif is_prime(check) == False:\n",
    "            tally += 1\n",
    "            check += 2"
   ]
  },
  {
   "cell_type": "code",
   "execution_count": 6,
   "id": "13e2cad9",
   "metadata": {
    "ExecuteTime": {
     "end_time": "2022-05-12T01:57:39.723763Z",
     "start_time": "2022-05-12T01:57:39.713762Z"
    }
   },
   "outputs": [
    {
     "data": {
      "text/plain": [
       "4028"
      ]
     },
     "execution_count": 6,
     "metadata": {},
     "output_type": "execute_result"
    }
   ],
   "source": [
    "sum_prime(100)"
   ]
  },
  {
   "cell_type": "code",
   "execution_count": 24,
   "id": "30071c85",
   "metadata": {
    "ExecuteTime": {
     "end_time": "2022-05-11T05:51:51.631293Z",
     "start_time": "2022-05-11T05:51:51.605153Z"
    }
   },
   "outputs": [
    {
     "data": {
      "text/plain": [
       "76127"
      ]
     },
     "execution_count": 24,
     "metadata": {},
     "output_type": "execute_result"
    }
   ],
   "source": [
    "test = [2, 3, 5, 7, 11, 13, 17, 19, 23, 29, 31, 37, 41, 43, 47, 53, 59, 61, 67, 71, 73, 79, 83, 89, 97, 101, 103, 107, 109, 113, 127, 131, 137, 139, 149, 151, 157, 163, 167, 173, 179, 181, 191, 193, 197, 199, 211, 223, 227, 229, 233, 239, 241, 251, 257, 263, 269, 271, 277, 281, 283, 293, 307, 311, 313, 317, 331, 337, 347, 349, 353, 359, 367, 373, 379, 383, 389, 397, 401, 409, 419, 421, 431, 433, 439, 443, 449, 457, 461, 463, 467, 479, 487, 491, 499, 503, 509, 521, 523, 541, 547, 557, 563, 569, 571, 577, 587, 593, 599, 601, 607, 613, 617, 619, 631, 641, 643, 647, 653, 659, 661, 673, 677, 683, 691, 701, 709, 719, 727, 733, 739, 743, 751, 757, 761, 769, 773, 787, 797, 809, 811, 821, 823, 827, 829, 839, 853, 857, 859, 863, 877, 881, 883, 887, 907, 911, 919, 929, 937, 941, 947, 953, 967, 971, 977, 983, 991, 997]\n",
    "sum(test)"
   ]
  },
  {
   "cell_type": "code",
   "execution_count": null,
   "id": "cc842c73",
   "metadata": {},
   "outputs": [],
   "source": []
  }
 ],
 "metadata": {
  "kernelspec": {
   "display_name": "Python 3 (ipykernel)",
   "language": "python",
   "name": "python3"
  },
  "language_info": {
   "codemirror_mode": {
    "name": "ipython",
    "version": 3
   },
   "file_extension": ".py",
   "mimetype": "text/x-python",
   "name": "python",
   "nbconvert_exporter": "python",
   "pygments_lexer": "ipython3",
   "version": "3.9.7"
  }
 },
 "nbformat": 4,
 "nbformat_minor": 5
}
