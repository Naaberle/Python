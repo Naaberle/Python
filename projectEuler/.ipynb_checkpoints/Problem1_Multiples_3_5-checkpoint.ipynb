{
 "cells": [
  {
   "cell_type": "markdown",
   "id": "236805c8",
   "metadata": {},
   "source": [
    "If we list all the natural numbers below 10 that are multiples of 3 or 5, we get 3, 5, 6 and 9. The sum of these multiples is 23.\n",
    "\n",
    "Find the sum of all the multiples of 3 or 5 below 1000."
   ]
  },
  {
   "cell_type": "code",
   "execution_count": 9,
   "id": "6b586605",
   "metadata": {},
   "outputs": [],
   "source": [
    "def sumtotal(below_x):\n",
    "    sumtotal = []\n",
    "    \n",
    "    for x in range(1,below_x):\n",
    "        if x%3 == 0 or x%5 == 0:\n",
    "            sumtotal.append(x)\n",
    "    \n",
    "    return sum(sumtotal)\n",
    "    "
   ]
  },
  {
   "cell_type": "code",
   "execution_count": 13,
   "id": "bf95f3c4",
   "metadata": {
    "ExecuteTime": {
     "end_time": "2022-05-09T05:42:50.496243Z",
     "start_time": "2022-05-09T05:42:50.487230Z"
    }
   },
   "outputs": [
    {
     "data": {
      "text/plain": [
       "233168"
      ]
     },
     "execution_count": 13,
     "metadata": {},
     "output_type": "execute_result"
    }
   ],
   "source": [
    "sumtotal(1000)"
   ]
  }
 ],
 "metadata": {
  "kernelspec": {
   "display_name": "Python 3 (ipykernel)",
   "language": "python",
   "name": "python3"
  },
  "language_info": {
   "codemirror_mode": {
    "name": "ipython",
    "version": 3
   },
   "file_extension": ".py",
   "mimetype": "text/x-python",
   "name": "python",
   "nbconvert_exporter": "python",
   "pygments_lexer": "ipython3",
   "version": "3.9.7"
  }
 },
 "nbformat": 4,
 "nbformat_minor": 5
}
