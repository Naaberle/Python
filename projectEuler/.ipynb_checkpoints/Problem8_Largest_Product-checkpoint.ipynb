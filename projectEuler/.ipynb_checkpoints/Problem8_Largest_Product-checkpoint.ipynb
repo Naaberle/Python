{
 "cells": [
  {
   "cell_type": "markdown",
   "id": "8cb758f2",
   "metadata": {},
   "source": [
    "The four adjacent digits in the 1000-digit number that have the greatest product are 9 × 9 × 8 × 9 = 5832.\n",
    "\n",
    "7316717653133062491922511967442657474235534919493496983520312774506326239578318016984801869478851843\n",
    "8586156078911294949545950173795833195285320880551112540698747158523863050715693290963295227443043557\n",
    "6689664895044524452316173185640309871112172238311362229893423380308135336276614282806444486645238749\n",
    "3035890729629049156044077239071381051585930796086670172427121883998797908792274921901699720888093776\n",
    "6572733300105336788122023542180975125454059475224352584907711670556013604839586446706324415722155397\n",
    "5369781797784617406495514929086256932197846862248283972241375657056057490261407972968652414535100474\n",
    "8216637048440319989000889524345065854122758866688116427171479924442928230863465674813919123162824586\n",
    "1786645835912456652947654568284891288314260769004224219022671055626321111109370544217506941658960408\n",
    "0719840385096245544436298123098787992724428490918884580156166097919133875499200524063689912560717606\n",
    "0588611646710940507754100225698315520005593572972571636269561882670428252483600823257530420752963450\n",
    "\n",
    "Find the thirteen adjacent digits in the 1000-digit number that have the greatest product. What is the value of this product?\n"
   ]
  },
  {
   "cell_type": "code",
   "execution_count": 65,
   "id": "4a0b62d4",
   "metadata": {
    "ExecuteTime": {
     "end_time": "2022-05-11T05:02:11.147134Z",
     "start_time": "2022-05-11T05:02:11.126131Z"
    }
   },
   "outputs": [],
   "source": [
    "digit1 = 73167176531330624919225119674426574742355349194934969835203127745063262395783180169848018694788518438586\n",
    "list1 = [int(a) for a in str(digit1)]\n",
    "\n",
    "digit2 = 184385861560789112949495459501737958331952853208805511125406987471585238630507156932909632952274430435576689\n",
    "list2 = [int(a) for a in str(digit2)]\n",
    "\n",
    "digit3 = 355766896648950445244523161731856403098711121722383113622298934233803081353362766142828064444866452387493035 \n",
    "list3 = [int(a) for a in str(digit3)]\n",
    "\n",
    "digit4 = 874930358907296290491560440772390713810515859307960866701724271218839987979087922749219016997208880937766572\n",
    "list4 = [int(a) for a in str(digit4)]\n",
    "\n",
    "digit5 = 377665727333001053367881220235421809751254540594752243525849077116705560136048395864467063244157221553975369\n",
    "list5 = [int(a) for a in str(digit5)]\n",
    "\n",
    "digit6 = 539753697817977846174064955149290862569321978468622482839722413756570560574902614079729686524145351004748216\n",
    "list6 = [int(a) for a in str(digit6)]\n",
    "\n",
    "digit7 = 10047482166370484403199890008895243450658541227588666881164271714799244429282308634656748139191231628245861786\n",
    "list7 = [int(a) for a in str(digit7)]\n",
    "\n",
    "digit8 = 458617866458359124566529476545682848912883142607690042242190226710556263211111093705442175069416589604080719\n",
    "list8 = [int(a) for a in str(digit8)]\n",
    "\n",
    "digit9 = 6040807198403850962455444362981230987879927244284909188845801561660979191338754992005240636899125607176060588\n",
    "list9 = [int(a) for a in str(digit9)]\n",
    "\n",
    "digit10 =76060588611646710940507754100225698315520005593572972571636269561882670428252483600823257530420752963450\n",
    "list10 = [int(a) for a in str(digit10)]\n"
   ]
  },
  {
   "cell_type": "code",
   "execution_count": 68,
   "id": "2e92183c",
   "metadata": {
    "ExecuteTime": {
     "end_time": "2022-05-11T05:08:44.995969Z",
     "start_time": "2022-05-11T05:08:44.971952Z"
    }
   },
   "outputs": [
    {
     "name": "stdout",
     "output_type": "stream",
     "text": [
      "23514624000\n"
     ]
    }
   ],
   "source": [
    "import math\n",
    "count = 0\n",
    "adjac = 6\n",
    "higher = 0\n",
    "\n",
    "for num in range(len(list1)-adjac):\n",
    "    count = math.prod(list1[num-6:num+7])\n",
    "    if count > higher:\n",
    "        higher = count\n",
    "        \n",
    "for num in range(len(list2)-adjac):\n",
    "    count = math.prod(list2[num-6:num+7])\n",
    "    if count > higher:\n",
    "        higher = count\n",
    "        \n",
    "for num in range(len(list3)-adjac):\n",
    "    count = math.prod(list3[num-6:num+7])\n",
    "    if count > higher:\n",
    "        higher = count\n",
    "        \n",
    "for num in range(len(list4)-adjac):\n",
    "    count = math.prod(list4[num-6:num+7])\n",
    "    if count > higher:\n",
    "        higher = count\n",
    "        \n",
    "for num in range(len(list5)-adjac):\n",
    "    count = math.prod(list5[num-6:num+7])\n",
    "    if count > higher:\n",
    "        higher = count\n",
    "        \n",
    "for num in range(len(list6)-adjac):\n",
    "    count = math.prod(list6[num-6:num+7])\n",
    "    if count > higher:\n",
    "        higher = count\n",
    "        \n",
    "for num in range(len(list7)-adjac):\n",
    "    count = math.prod(list7[num-6:num+7])\n",
    "    if count > higher:\n",
    "        higher = count\n",
    "        \n",
    "for num in range(len(list8)-adjac):\n",
    "    count = math.prod(list8[num-6:num+7])\n",
    "    if count > higher:\n",
    "        higher = count\n",
    "        \n",
    "for num in range(len(list9)-adjac):\n",
    "    count = math.prod(list9[num-6:num+7])\n",
    "    if count > higher:\n",
    "        higher = count\n",
    "        \n",
    "for num in range(len(list10)-adjac):\n",
    "    count = math.prod(list10[num-6:num+7])\n",
    "    if count > higher:\n",
    "        higher = count\n",
    "\n",
    "print(higher)"
   ]
  },
  {
   "cell_type": "code",
   "execution_count": 64,
   "id": "0733bd60",
   "metadata": {
    "ExecuteTime": {
     "end_time": "2022-05-11T05:01:56.123643Z",
     "start_time": "2022-05-11T05:01:56.102639Z"
    }
   },
   "outputs": [
    {
     "name": "stdout",
     "output_type": "stream",
     "text": [
      "63\n"
     ]
    }
   ],
   "source": [
    "#test case: add three adj numbers and output them.\n",
    "#Results should be 1 + 2 + 3 = 6, 2 + 3 + 4 = 9, 3 + 4 + 5 = 12 \n",
    "#test2: find the product of adjacents\n",
    "\n",
    "import math\n",
    "listjev = [5,9,1,0,4] \n",
    "listdos = [2,3,7,1,9]\n",
    "count = 0\n",
    "adjac = 1\n",
    "higher = 0\n",
    "\n",
    "for num in range(len(listjev)-adjac):\n",
    "    count = math.prod(listjev[num-1:num+2])\n",
    "    if count > higher:\n",
    "        higher = count\n",
    "        \n",
    "        \n",
    "for num in range(len(listdos)-adjac):\n",
    "    count = math.prod(listdos[num-1:num+2])\n",
    "    if count > higher:\n",
    "        higher = count\n",
    "       \n",
    "        \n",
    "print(higher)\n"
   ]
  },
  {
   "cell_type": "code",
   "execution_count": 63,
   "id": "f865fc9c",
   "metadata": {
    "ExecuteTime": {
     "end_time": "2022-05-11T05:00:12.618129Z",
     "start_time": "2022-05-11T05:00:12.605492Z"
    }
   },
   "outputs": [
    {
     "data": {
      "text/plain": [
       "45"
      ]
     },
     "execution_count": 63,
     "metadata": {},
     "output_type": "execute_result"
    }
   ],
   "source": [
    "5*9*1"
   ]
  },
  {
   "cell_type": "code",
   "execution_count": null,
   "id": "28ec2f46",
   "metadata": {},
   "outputs": [],
   "source": []
  }
 ],
 "metadata": {
  "kernelspec": {
   "display_name": "Python 3 (ipykernel)",
   "language": "python",
   "name": "python3"
  },
  "language_info": {
   "codemirror_mode": {
    "name": "ipython",
    "version": 3
   },
   "file_extension": ".py",
   "mimetype": "text/x-python",
   "name": "python",
   "nbconvert_exporter": "python",
   "pygments_lexer": "ipython3",
   "version": "3.9.7"
  }
 },
 "nbformat": 4,
 "nbformat_minor": 5
}
