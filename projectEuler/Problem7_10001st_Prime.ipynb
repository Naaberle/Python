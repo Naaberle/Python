{
 "cells": [
  {
   "cell_type": "markdown",
   "id": "3c0d2914",
   "metadata": {},
   "source": [
    "By listing the first six prime numbers: 2, 3, 5, 7, 11, and 13, we can see that the 6th prime is 13.\n",
    "\n",
    "What is the 10 001st prime number?"
   ]
  },
  {
   "cell_type": "code",
   "execution_count": 2,
   "id": "2563e996",
   "metadata": {
    "ExecuteTime": {
     "end_time": "2022-05-12T00:35:54.501205Z",
     "start_time": "2022-05-12T00:35:54.492193Z"
    }
   },
   "outputs": [],
   "source": [
    "def is_prime(num1):\n",
    "    factors = 0\n",
    "    if num1 == 1:\n",
    "        return False\n",
    "    elif num1 < 4:\n",
    "        return True\n",
    "    elif num1%2 == 0:\n",
    "        return False\n",
    "    elif num1 < 9:\n",
    "        return True\n",
    "    elif num1%3 == 0 or num1%5 == 0 or num1%7 == 0:\n",
    "        return False\n",
    "    elif factors == 0:\n",
    "        for x in range(1,num1+1):\n",
    "            if num1%x == 0:\n",
    "                factors += 1\n",
    "        if factors > 2:\n",
    "            return False\n",
    "        else:\n",
    "            return True"
   ]
  },
  {
   "cell_type": "code",
   "execution_count": 3,
   "id": "9e915590",
   "metadata": {
    "ExecuteTime": {
     "end_time": "2022-05-12T00:35:56.081071Z",
     "start_time": "2022-05-12T00:35:56.068068Z"
    }
   },
   "outputs": [],
   "source": [
    "def track_prime(prime_count):\n",
    "    advance = True    #tracking prime_count.\n",
    "    tally = 1\n",
    "    current = 0        #Current highest prime\n",
    "    count = 1           #tracking natural number count \n",
    "\n",
    "    while advance == True:\n",
    "        if tally == prime_count:\n",
    "            return current\n",
    "        if is_prime(count) == True:\n",
    "            current = count\n",
    "            tally += 1\n",
    "            count += 2\n",
    "        elif is_prime(count) == False:\n",
    "            count += 2"
   ]
  },
  {
   "cell_type": "code",
   "execution_count": 4,
   "id": "46a9733e",
   "metadata": {
    "ExecuteTime": {
     "end_time": "2022-05-12T00:38:50.422430Z",
     "start_time": "2022-05-12T00:35:59.014142Z"
    }
   },
   "outputs": [
    {
     "name": "stdout",
     "output_type": "stream",
     "text": [
      "104743\n"
     ]
    }
   ],
   "source": [
    "print(track_prime(10001))"
   ]
  },
  {
   "cell_type": "code",
   "execution_count": 181,
   "id": "9f65f0db",
   "metadata": {
    "ExecuteTime": {
     "end_time": "2022-05-11T01:50:00.139142Z",
     "start_time": "2022-05-11T01:41:35.240840Z"
    }
   },
   "outputs": [
    {
     "name": "stdout",
     "output_type": "stream",
     "text": [
      "104743\n"
     ]
    }
   ],
   "source": [
    "print(track_prime(10001))"
   ]
  },
  {
   "cell_type": "code",
   "execution_count": 168,
   "id": "42f44d0e",
   "metadata": {
    "ExecuteTime": {
     "end_time": "2022-05-11T01:23:09.129565Z",
     "start_time": "2022-05-11T01:23:09.110562Z"
    }
   },
   "outputs": [],
   "source": [
    "def is_prime2(num1):\n",
    "    factors = 0\n",
    "    if num1 == 1:\n",
    "        return False\n",
    "    elif num1 == 2:\n",
    "        return True\n",
    "    elif num1%2 == 0:\n",
    "        return False\n",
    "    elif factors == 0:\n",
    "        for x in range(1,num1+1):\n",
    "            if num1%x == 0:\n",
    "                factors += 1\n",
    "        if factors > 2:\n",
    "            return False\n",
    "        else:\n",
    "            return True\n",
    "    \n",
    "    \n",
    "    \"\"\"\n",
    "    elif for x in range(1, num1+1):\n",
    "        factors = 0\n",
    "        if num1%x == 0:\n",
    "            factors += 1\n",
    "            if factors > 2:\n",
    "                return False\n",
    "                \"\"\"\n",
    "    "
   ]
  },
  {
   "cell_type": "code",
   "execution_count": 172,
   "id": "d1afb0de",
   "metadata": {
    "ExecuteTime": {
     "end_time": "2022-05-11T01:23:21.817792Z",
     "start_time": "2022-05-11T01:23:21.799657Z"
    }
   },
   "outputs": [
    {
     "data": {
      "text/plain": [
       "False"
      ]
     },
     "execution_count": 172,
     "metadata": {},
     "output_type": "execute_result"
    }
   ],
   "source": [
    "is_prime2(49)"
   ]
  },
  {
   "cell_type": "code",
   "execution_count": 84,
   "id": "9161a338",
   "metadata": {
    "ExecuteTime": {
     "end_time": "2022-05-11T00:58:02.932874Z",
     "start_time": "2022-05-11T00:58:02.912975Z"
    }
   },
   "outputs": [
    {
     "name": "stdout",
     "output_type": "stream",
     "text": [
      "mult2,3,5\n",
      "0\n",
      "1this is x\n",
      "1\n",
      "2this is x\n",
      "2\n",
      "3this is x\n",
      "2\n",
      "4this is x\n",
      "hi\n"
     ]
    }
   ],
   "source": [
    "num1 = 20\n",
    "if num1 == 2 or num1 == 3 or num1 == 5:\n",
    "    print('2,3,5')\n",
    "elif num1 == 1:\n",
    "    print('1')\n",
    "elif num1%2 == 0 or num1%3 == 0 or num1%5 == 0:\n",
    "    print('mult2,3,5')\n",
    "    factors = 0\n",
    "    for x in range(1, num1+1):        \n",
    "        print(factors)\n",
    "        print(str(x)+'this is x')\n",
    "        if num1%x == 0:\n",
    "            factors += 1\n",
    "            if factors > 2:\n",
    "                print('hi')\n",
    "                break\n",
    "else:\n",
    "    print('prime')"
   ]
  },
  {
   "cell_type": "code",
   "execution_count": 87,
   "id": "16797546",
   "metadata": {
    "ExecuteTime": {
     "end_time": "2022-05-11T01:00:33.391348Z",
     "start_time": "2022-05-11T01:00:33.371815Z"
    }
   },
   "outputs": [],
   "source": [
    "def is_prime2(num1):\n",
    "    if num1 == 2 or num1 == 3 or num1 == 5:\n",
    "        return True\n",
    "    elif num1 == 1:\n",
    "        return False\n",
    "    elif num1%2 == 0 or num1%3 == 0 or num1%5 == 0:\n",
    "        return False\n",
    "        factors = 0\n",
    "        for x in range(1, num1+1):\n",
    "            if num1%x == 0:\n",
    "                factors += 1\n",
    "                if factors > 2:\n",
    "                    return False\n",
    "    else:\n",
    "        return True"
   ]
  },
  {
   "cell_type": "code",
   "execution_count": 72,
   "id": "b08021cd",
   "metadata": {
    "ExecuteTime": {
     "end_time": "2022-05-11T00:53:32.716311Z",
     "start_time": "2022-05-11T00:53:32.703308Z"
    }
   },
   "outputs": [
    {
     "name": "stdout",
     "output_type": "stream",
     "text": [
      "0\n",
      "1\n"
     ]
    }
   ],
   "source": [
    "def is_prime2(num1):\n",
    "    factors = 0\n",
    "    if num1 == 2 or num1 == 3 or num1 == 5:\n",
    "        return True\n",
    "    elif num1 == 1:\n",
    "        return False    \n",
    "    elif num1%2 == 0 or num1%3 == 0 or num1%5 == 0:\n",
    "        return False\n",
    "    elif factors == 0:\n",
    "        for x in range(1,num1+1):\n",
    "            if num1%x == 0:\n",
    "                factors += 1\n",
    "                if factors > 2:\n",
    "                    return False\n",
    "    else:\n",
    "        return True"
   ]
  },
  {
   "cell_type": "code",
   "execution_count": 191,
   "id": "cb2e5814",
   "metadata": {
    "ExecuteTime": {
     "end_time": "2022-05-11T01:57:25.550106Z",
     "start_time": "2022-05-11T01:57:25.542104Z"
    }
   },
   "outputs": [
    {
     "name": "stdout",
     "output_type": "stream",
     "text": [
      "547\n"
     ]
    }
   ],
   "source": [
    "\n",
    "while count <= 100:\n",
    "    x += 1\n",
    "    for number in range(2, x + 1):\n",
    "        if x % number == 0:\n",
    "            if x == number:\n",
    "                count += 1\n",
    "            else:\n",
    "                break\n",
    "        else:\n",
    "            continue\n",
    "print(x)"
   ]
  },
  {
   "cell_type": "code",
   "execution_count": null,
   "id": "a86b9d6c",
   "metadata": {},
   "outputs": [],
   "source": []
  }
 ],
 "metadata": {
  "kernelspec": {
   "display_name": "Python 3 (ipykernel)",
   "language": "python",
   "name": "python3"
  },
  "language_info": {
   "codemirror_mode": {
    "name": "ipython",
    "version": 3
   },
   "file_extension": ".py",
   "mimetype": "text/x-python",
   "name": "python",
   "nbconvert_exporter": "python",
   "pygments_lexer": "ipython3",
   "version": "3.9.7"
  }
 },
 "nbformat": 4,
 "nbformat_minor": 5
}
