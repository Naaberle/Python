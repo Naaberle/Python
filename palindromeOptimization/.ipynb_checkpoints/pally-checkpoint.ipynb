{
 "cells": [
  {
   "cell_type": "code",
   "execution_count": null,
   "id": "252042ca",
   "metadata": {},
   "outputs": [],
   "source": [
    "pallys = []\n",
    "\n",
    "for x in range(1,1000):\n",
    "    for y in range(1,1000):\n",
    "        result = x*y\n",
    "        newstr = str(result)\n",
    "        if newstr == newstr[::-1]:\n",
    "            pallys.append(result)\n",
    "            \n",
    "max(pallys)"
   ]
  },
  {
   "cell_type": "code",
   "execution_count": null,
   "id": "44346b8b",
   "metadata": {},
   "outputs": [],
   "source": [
    "for x in range(1,1000):\n",
    "    pallys = []\n",
    "    pallys.append([x*y for y in range(1,1000) if str(x*y) == str(x*y)[::-1]])\n",
    "    print(pallys)"
   ]
  },
  {
   "cell_type": "code",
   "execution_count": null,
   "id": "0bec7559",
   "metadata": {},
   "outputs": [],
   "source": [
    "pallys = []\n",
    "\n",
    "for x in range(1,1000):\n",
    "    pallys.append([x*y for y in range(1,1000) if str(x*y) == str(x*y)[::-1]])\n",
    "\n",
    "print(pallys)\n"
   ]
  },
  {
   "cell_type": "code",
   "execution_count": 1,
   "id": "69aa4741",
   "metadata": {},
   "outputs": [
    {
     "name": "stdout",
     "output_type": "stream",
     "text": [
      "906609\n"
     ]
    }
   ],
   "source": [
    "pallys = [x*y for x in range(1,1000) for y in range(1,1000) if str(x*y) == str(x*y)[::-1]]\n",
    "print(max(pallys))"
   ]
  },
  {
   "cell_type": "code",
   "execution_count": 5,
   "id": "2b9bc4c5",
   "metadata": {},
   "outputs": [
    {
     "data": {
      "text/plain": [
       "906609"
      ]
     },
     "execution_count": 5,
     "metadata": {},
     "output_type": "execute_result"
    }
   ],
   "source": [
    "max([x*y for x in range(1,1000) for y in range(1,1000) if str(x*y) == str(x*y)[::-1]])"
   ]
  },
  {
   "cell_type": "code",
   "execution_count": 24,
   "id": "399fde43",
   "metadata": {},
   "outputs": [
    {
     "name": "stdout",
     "output_type": "stream",
     "text": [
      "906609\n"
     ]
    }
   ],
   "source": [
    "highest = 0\n",
    "\n",
    "for x in range(1000,915,-1):\n",
    "    for y in range(1000,912,-1):\n",
    "        newhighest = x*y\n",
    "        newstr = str(newhighest)\n",
    "        if newstr == newstr[::-1] and newhighest > highest:\n",
    "            highest = newhighest\n",
    "            \n",
    "print(highest)"
   ]
  },
  {
   "cell_type": "code",
   "execution_count": 32,
   "id": "d2f3d91c",
   "metadata": {},
   "outputs": [
    {
     "name": "stdout",
     "output_type": "stream",
     "text": [
      "906609\n"
     ]
    }
   ],
   "source": [
    "highest = 0\n",
    "\n",
    "newhighest = [x*y for x in range(1000,1,-1) for y in range(1000,1,-1) if str(x*y) == str(x*y)[::-1]]\n",
    "\n",
    "for i in newhighest:\n",
    "    if i > highest:\n",
    "        highest = i\n",
    "        \n",
    "print(highest)"
   ]
  },
  {
   "cell_type": "code",
   "execution_count": 33,
   "id": "7f77e375",
   "metadata": {},
   "outputs": [
    {
     "name": "stdout",
     "output_type": "stream",
     "text": [
      "906609\n"
     ]
    }
   ],
   "source": [
    "highest = 0\n",
    "\n",
    "for i in [x*y for x in range(1000,1,-1) for y in range(1000,1,-1) if str(x*y) == str(x*y)[::-1]]:\n",
    "    if i > highest:\n",
    "        highest = i\n",
    "        \n",
    "print(highest)"
   ]
  },
  {
   "cell_type": "code",
   "execution_count": null,
   "id": "f54468af",
   "metadata": {},
   "outputs": [],
   "source": []
  }
 ],
 "metadata": {
  "kernelspec": {
   "display_name": "Python 3 (ipykernel)",
   "language": "python",
   "name": "python3"
  },
  "language_info": {
   "codemirror_mode": {
    "name": "ipython",
    "version": 3
   },
   "file_extension": ".py",
   "mimetype": "text/x-python",
   "name": "python",
   "nbconvert_exporter": "python",
   "pygments_lexer": "ipython3",
   "version": "3.9.7"
  }
 },
 "nbformat": 4,
 "nbformat_minor": 5
}
