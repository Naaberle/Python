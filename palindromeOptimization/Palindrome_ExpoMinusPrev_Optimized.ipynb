{
 "cells": [
  {
   "cell_type": "code",
   "execution_count": 60,
   "id": "46650b68",
   "metadata": {
    "ExecuteTime": {
     "end_time": "2022-05-09T03:21:47.565756Z",
     "start_time": "2022-05-09T03:21:47.544737Z"
    }
   },
   "outputs": [],
   "source": [
    "def largestPalindrome(n):\n",
    "    highest = 0\n",
    "    \n",
    "    for x in range(10**n, 10**(n-1), -1):\n",
    "        for y in range(x, 10**(n-1), -1):\n",
    "            newhighest = x*y\n",
    "            if newhighest > highest:\n",
    "                newstr = str(newhighest)\n",
    "                if newstr == newstr[::-1]:\n",
    "                    highest = newhighest\n",
    "            else:\n",
    "                break\n",
    "            \n",
    "    return highest"
   ]
  },
  {
   "cell_type": "code",
   "execution_count": 61,
   "id": "b49aa784",
   "metadata": {
    "ExecuteTime": {
     "end_time": "2022-05-09T03:21:47.814324Z",
     "start_time": "2022-05-09T03:21:47.787319Z"
    }
   },
   "outputs": [
    {
     "data": {
      "text/plain": [
       "99000099"
      ]
     },
     "execution_count": 61,
     "metadata": {},
     "output_type": "execute_result"
    }
   ],
   "source": [
    "largestPalindrome(4)"
   ]
  },
  {
   "cell_type": "code",
   "execution_count": null,
   "id": "b1142169",
   "metadata": {},
   "outputs": [],
   "source": []
  },
  {
   "cell_type": "code",
   "execution_count": null,
   "id": "7dccc2be",
   "metadata": {},
   "outputs": [],
   "source": []
  }
 ],
 "metadata": {
  "kernelspec": {
   "display_name": "Python 3 (ipykernel)",
   "language": "python",
   "name": "python3"
  },
  "language_info": {
   "codemirror_mode": {
    "name": "ipython",
    "version": 3
   },
   "file_extension": ".py",
   "mimetype": "text/x-python",
   "name": "python",
   "nbconvert_exporter": "python",
   "pygments_lexer": "ipython3",
   "version": "3.9.7"
  }
 },
 "nbformat": 4,
 "nbformat_minor": 5
}
