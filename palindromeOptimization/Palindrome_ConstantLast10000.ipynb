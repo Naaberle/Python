{
 "cells": [
  {
   "cell_type": "code",
   "execution_count": 1,
   "id": "9437c49d",
   "metadata": {
    "ExecuteTime": {
     "end_time": "2022-05-09T01:02:24.608876Z",
     "start_time": "2022-05-09T01:02:24.585843Z"
    }
   },
   "outputs": [],
   "source": [
    "def range_select(length = 1):\n",
    "    \n",
    "    if (10**length)-10000 < 0:\n",
    "        return range(1,10**length)\n",
    "    else:\n",
    "        return range((10**length)-10000, 10**length)"
   ]
  },
  {
   "cell_type": "code",
   "execution_count": 2,
   "id": "d26de974",
   "metadata": {
    "ExecuteTime": {
     "end_time": "2022-05-09T01:02:26.246506Z",
     "start_time": "2022-05-09T01:02:26.228663Z"
    }
   },
   "outputs": [],
   "source": [
    "def return_highest(digit_length):\n",
    "    highest = 0\n",
    "    digits = digit_length\n",
    "    \n",
    "    for x in digits:\n",
    "        for y in digits:\n",
    "            newhighest = x*y\n",
    "            newstr = str(newhighest)\n",
    "            if newstr == newstr[::-1] and newhighest > highest:\n",
    "                highest = newhighest\n",
    "            \n",
    "    return highest"
   ]
  },
  {
   "cell_type": "code",
   "execution_count": 23,
   "id": "9a0209c7",
   "metadata": {
    "ExecuteTime": {
     "end_time": "2022-05-09T01:09:43.207712Z",
     "start_time": "2022-05-09T01:08:54.960556Z"
    }
   },
   "outputs": [
    {
     "data": {
      "text/plain": [
       "9999000000009999"
      ]
     },
     "execution_count": 23,
     "metadata": {},
     "output_type": "execute_result"
    }
   ],
   "source": [
    "return_highest(range_select(8))"
   ]
  },
  {
   "cell_type": "code",
   "execution_count": null,
   "id": "316e35f4",
   "metadata": {},
   "outputs": [],
   "source": []
  }
 ],
 "metadata": {
  "kernelspec": {
   "display_name": "Python 3 (ipykernel)",
   "language": "python",
   "name": "python3"
  },
  "language_info": {
   "codemirror_mode": {
    "name": "ipython",
    "version": 3
   },
   "file_extension": ".py",
   "mimetype": "text/x-python",
   "name": "python",
   "nbconvert_exporter": "python",
   "pygments_lexer": "ipython3",
   "version": "3.9.7"
  }
 },
 "nbformat": 4,
 "nbformat_minor": 5
}
