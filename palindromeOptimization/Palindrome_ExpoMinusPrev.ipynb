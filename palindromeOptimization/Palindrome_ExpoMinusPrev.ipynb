{
 "cells": [
  {
   "cell_type": "code",
   "execution_count": 12,
   "id": "f9d508dd",
   "metadata": {
    "ExecuteTime": {
     "end_time": "2022-05-08T22:10:59.718332Z",
     "start_time": "2022-05-08T22:10:59.704177Z"
    }
   },
   "outputs": [],
   "source": [
    "def range_select(length = 1):\n",
    "    return range(10**(length-1), 10**length)"
   ]
  },
  {
   "cell_type": "code",
   "execution_count": 13,
   "id": "46650b68",
   "metadata": {
    "ExecuteTime": {
     "end_time": "2022-05-08T22:10:59.922371Z",
     "start_time": "2022-05-08T22:10:59.916370Z"
    }
   },
   "outputs": [],
   "source": [
    "def return_highest(digit_length):\n",
    "    highest = 0\n",
    "    digits = digit_length\n",
    "    \n",
    "    for x in digits:\n",
    "        for y in digits:\n",
    "            newhighest = x*y\n",
    "            newstr = str(newhighest)\n",
    "            if newstr == newstr[::-1] and newhighest > highest:\n",
    "                highest = newhighest\n",
    "            \n",
    "    return highest"
   ]
  },
  {
   "cell_type": "code",
   "execution_count": 52,
   "id": "b49aa784",
   "metadata": {
    "ExecuteTime": {
     "end_time": "2022-05-08T23:16:40.054725Z",
     "start_time": "2022-05-08T22:21:49.037009Z"
    }
   },
   "outputs": [
    {
     "data": {
      "text/plain": [
       "9966006699"
      ]
     },
     "execution_count": 52,
     "metadata": {},
     "output_type": "execute_result"
    }
   ],
   "source": [
    "return_highest(range_select(5))"
   ]
  },
  {
   "cell_type": "code",
   "execution_count": null,
   "id": "b1142169",
   "metadata": {},
   "outputs": [],
   "source": []
  }
 ],
 "metadata": {
  "kernelspec": {
   "display_name": "Python 3 (ipykernel)",
   "language": "python",
   "name": "python3"
  },
  "language_info": {
   "codemirror_mode": {
    "name": "ipython",
    "version": 3
   },
   "file_extension": ".py",
   "mimetype": "text/x-python",
   "name": "python",
   "nbconvert_exporter": "python",
   "pygments_lexer": "ipython3",
   "version": "3.9.7"
  }
 },
 "nbformat": 4,
 "nbformat_minor": 5
}
