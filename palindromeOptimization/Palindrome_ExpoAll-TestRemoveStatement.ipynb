{
 "cells": [
  {
   "cell_type": "code",
   "execution_count": 11,
   "id": "b2b602bd",
   "metadata": {
    "ExecuteTime": {
     "end_time": "2022-05-08T22:05:34.828573Z",
     "start_time": "2022-05-08T22:05:34.809560Z"
    }
   },
   "outputs": [],
   "source": [
    "def range_select(length):\n",
    "    return range(1, 10**length)"
   ]
  },
  {
   "cell_type": "code",
   "execution_count": 12,
   "id": "b020bf02",
   "metadata": {
    "ExecuteTime": {
     "end_time": "2022-05-08T22:05:35.066623Z",
     "start_time": "2022-05-08T22:05:35.058622Z"
    }
   },
   "outputs": [],
   "source": [
    "def return_highest(digit_length):\n",
    "    highest = 0\n",
    "    digits = digit_length\n",
    "    \n",
    "    for x in digits:\n",
    "        for y in digits:\n",
    "            newhighest = x*y\n",
    "            #if len(newhighest) > len(str(digits[-1])):\n",
    "                newstr = str(newhighest)\n",
    "                if newstr == newstr[::-1] and newhighest > highest:\n",
    "                    highest = newhighest\n",
    "           # else:\n",
    "               # pass\n",
    "            \n",
    "    return highest"
   ]
  },
  {
   "cell_type": "code",
   "execution_count": 14,
   "id": "9f2eefca",
   "metadata": {
    "ExecuteTime": {
     "end_time": "2022-05-08T22:05:40.189383Z",
     "start_time": "2022-05-08T22:05:39.770394Z"
    }
   },
   "outputs": [
    {
     "data": {
      "text/plain": [
       "906609"
      ]
     },
     "execution_count": 14,
     "metadata": {},
     "output_type": "execute_result"
    }
   ],
   "source": [
    "return_highest(range_select(3))"
   ]
  },
  {
   "cell_type": "code",
   "execution_count": 82,
   "id": "1302f50c",
   "metadata": {
    "ExecuteTime": {
     "end_time": "2022-05-08T18:42:17.964091Z",
     "start_time": "2022-05-08T18:42:17.798055Z"
    }
   },
   "outputs": [
    {
     "name": "stdout",
     "output_type": "stream",
     "text": [
      "31.2 µs ± 1.39 µs per loop (mean ± std. dev. of 5 runs, 1000 loops each)\n"
     ]
    }
   ],
   "source": [
    "%%timeit -r 5 -n 1000\n",
    "return_highest(range_select(1))"
   ]
  },
  {
   "cell_type": "code",
   "execution_count": null,
   "id": "efe6437f",
   "metadata": {},
   "outputs": [],
   "source": [
    "#maybe add a line after newhighest that's \"if len(newhighst) > something:\" else pass\n",
    "# this would at least cut out the analysis of anything shorter than a specific amount\n",
    "#this is way slower, almost 3x slower\n",
    "\n",
    " \n"
   ]
  }
 ],
 "metadata": {
  "kernelspec": {
   "display_name": "Python 3 (ipykernel)",
   "language": "python",
   "name": "python3"
  },
  "language_info": {
   "codemirror_mode": {
    "name": "ipython",
    "version": 3
   },
   "file_extension": ".py",
   "mimetype": "text/x-python",
   "name": "python",
   "nbconvert_exporter": "python",
   "pygments_lexer": "ipython3",
   "version": "3.9.7"
  }
 },
 "nbformat": 4,
 "nbformat_minor": 5
}
